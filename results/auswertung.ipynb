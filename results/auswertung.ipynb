{
 "cells": [
  {
   "cell_type": "markdown",
   "id": "hydraulic-flooring",
   "metadata": {},
   "source": [
    "# Datenauswertung\n",
    "### Seminar Visuelle Wahrnehmung beim Menschen und Bildqualität\n",
    "### Modifiziertes Beispiel. Noch nicht bis zum Ende angeglichen"
   ]
  },
  {
   "cell_type": "code",
   "execution_count": 1,
   "id": "prospective-monthly",
   "metadata": {
    "scrolled": true
   },
   "outputs": [],
   "source": [
    "import pandas as pd   # module to work with data in DataFrames.\n",
    "import seaborn as sns  # module to plot DataFrames in an easy way\n",
    "import matplotlib.pyplot as plt"
   ]
  },
  {
   "cell_type": "code",
   "execution_count": 2,
   "id": "technological-utilization",
   "metadata": {},
   "outputs": [],
   "source": [
    "# seaborn comes with default presets (called 'contents') for figure's aesthetics, \n",
    "# such as the font size, figure size etc. \n",
    "sns.set_context('talk') # try: 'talk', 'poster', 'notebook'"
   ]
  },
  {
   "cell_type": "code",
   "execution_count": 3,
   "id": "bulgarian-invite",
   "metadata": {},
   "outputs": [],
   "source": [
    "# we read the data\n",
    "df = pd.read_csv('result_final.csv')\n",
    "\n",
    "# if we have more observers we could read their files, assign the column observer \n",
    "# with their name, and concatenate the DataFrames with pd.concat(). Example:\n",
    "#df1 = pd.read_csv('Person1.csv')\n",
    "#df1['observer'] = 'Person1'      # creates a new column called 'observer'\n",
    "#df2 = pd.read_csv('Person2.csv') # reads second file\n",
    "#df2['observer'] = 'Person2'     \n",
    "#df = pd.concat((df, df2))        # concatenates both dataframes in one\n"
   ]
  },
  {
   "cell_type": "code",
   "execution_count": 4,
   "id": "numeric-primary",
   "metadata": {},
   "outputs": [
    {
     "data": {
      "text/html": [
       "<div>\n",
       "<style scoped>\n",
       "    .dataframe tbody tr th:only-of-type {\n",
       "        vertical-align: middle;\n",
       "    }\n",
       "\n",
       "    .dataframe tbody tr th {\n",
       "        vertical-align: top;\n",
       "    }\n",
       "\n",
       "    .dataframe thead th {\n",
       "        text-align: right;\n",
       "    }\n",
       "</style>\n",
       "<table border=\"1\" class=\"dataframe\">\n",
       "  <thead>\n",
       "    <tr style=\"text-align: right;\">\n",
       "      <th></th>\n",
       "      <th>Unnamed: 0</th>\n",
       "      <th>test_image</th>\n",
       "      <th>response</th>\n",
       "      <th>resptime</th>\n",
       "      <th>proband</th>\n",
       "      <th>rotation</th>\n",
       "      <th>image</th>\n",
       "      <th>category</th>\n",
       "      <th>sigma</th>\n",
       "    </tr>\n",
       "  </thead>\n",
       "  <tbody>\n",
       "    <tr>\n",
       "      <th>0</th>\n",
       "      <td>0</td>\n",
       "      <td>nature_3_r.jpeg</td>\n",
       "      <td>4</td>\n",
       "      <td>28.686909</td>\n",
       "      <td>Louis</td>\n",
       "      <td>True</td>\n",
       "      <td>nature_3</td>\n",
       "      <td>nature</td>\n",
       "      <td>original</td>\n",
       "    </tr>\n",
       "    <tr>\n",
       "      <th>1</th>\n",
       "      <td>1</td>\n",
       "      <td>portrait_9_4.jpeg</td>\n",
       "      <td>1</td>\n",
       "      <td>2.191806</td>\n",
       "      <td>Louis</td>\n",
       "      <td>False</td>\n",
       "      <td>portrait_9</td>\n",
       "      <td>portrait</td>\n",
       "      <td>4</td>\n",
       "    </tr>\n",
       "    <tr>\n",
       "      <th>2</th>\n",
       "      <td>2</td>\n",
       "      <td>art_6_20.jpeg</td>\n",
       "      <td>2</td>\n",
       "      <td>4.689927</td>\n",
       "      <td>Louis</td>\n",
       "      <td>False</td>\n",
       "      <td>art_6</td>\n",
       "      <td>art</td>\n",
       "      <td>20</td>\n",
       "    </tr>\n",
       "    <tr>\n",
       "      <th>3</th>\n",
       "      <td>3</td>\n",
       "      <td>art_9_12.jpeg</td>\n",
       "      <td>2</td>\n",
       "      <td>3.736233</td>\n",
       "      <td>Louis</td>\n",
       "      <td>False</td>\n",
       "      <td>art_9</td>\n",
       "      <td>art</td>\n",
       "      <td>12</td>\n",
       "    </tr>\n",
       "    <tr>\n",
       "      <th>4</th>\n",
       "      <td>4</td>\n",
       "      <td>nature_10_7.jpeg</td>\n",
       "      <td>1</td>\n",
       "      <td>1.395104</td>\n",
       "      <td>Louis</td>\n",
       "      <td>False</td>\n",
       "      <td>nature_10</td>\n",
       "      <td>nature</td>\n",
       "      <td>7</td>\n",
       "    </tr>\n",
       "    <tr>\n",
       "      <th>...</th>\n",
       "      <td>...</td>\n",
       "      <td>...</td>\n",
       "      <td>...</td>\n",
       "      <td>...</td>\n",
       "      <td>...</td>\n",
       "      <td>...</td>\n",
       "      <td>...</td>\n",
       "      <td>...</td>\n",
       "      <td>...</td>\n",
       "    </tr>\n",
       "    <tr>\n",
       "      <th>2095</th>\n",
       "      <td>2095</td>\n",
       "      <td>art_4_20.jpeg</td>\n",
       "      <td>5</td>\n",
       "      <td>0.700461</td>\n",
       "      <td>Philipp</td>\n",
       "      <td>False</td>\n",
       "      <td>art_4</td>\n",
       "      <td>art</td>\n",
       "      <td>20</td>\n",
       "    </tr>\n",
       "    <tr>\n",
       "      <th>2096</th>\n",
       "      <td>2096</td>\n",
       "      <td>portrait_9_7.jpeg</td>\n",
       "      <td>3</td>\n",
       "      <td>2.584903</td>\n",
       "      <td>Philipp</td>\n",
       "      <td>False</td>\n",
       "      <td>portrait_9</td>\n",
       "      <td>portrait</td>\n",
       "      <td>7</td>\n",
       "    </tr>\n",
       "    <tr>\n",
       "      <th>2097</th>\n",
       "      <td>2097</td>\n",
       "      <td>nature_6_r_7.jpeg</td>\n",
       "      <td>5</td>\n",
       "      <td>1.550584</td>\n",
       "      <td>Philipp</td>\n",
       "      <td>True</td>\n",
       "      <td>nature_6</td>\n",
       "      <td>nature</td>\n",
       "      <td>7</td>\n",
       "    </tr>\n",
       "    <tr>\n",
       "      <th>2098</th>\n",
       "      <td>2098</td>\n",
       "      <td>nature_7_r_20.jpeg</td>\n",
       "      <td>5</td>\n",
       "      <td>1.204270</td>\n",
       "      <td>Philipp</td>\n",
       "      <td>True</td>\n",
       "      <td>nature_7</td>\n",
       "      <td>nature</td>\n",
       "      <td>20</td>\n",
       "    </tr>\n",
       "    <tr>\n",
       "      <th>2099</th>\n",
       "      <td>2099</td>\n",
       "      <td>nature_4_r_12.jpeg</td>\n",
       "      <td>4</td>\n",
       "      <td>2.689410</td>\n",
       "      <td>Philipp</td>\n",
       "      <td>True</td>\n",
       "      <td>nature_4</td>\n",
       "      <td>nature</td>\n",
       "      <td>12</td>\n",
       "    </tr>\n",
       "  </tbody>\n",
       "</table>\n",
       "<p>2100 rows × 9 columns</p>\n",
       "</div>"
      ],
      "text/plain": [
       "      Unnamed: 0          test_image  response   resptime  proband  rotation  \\\n",
       "0              0     nature_3_r.jpeg         4  28.686909    Louis      True   \n",
       "1              1   portrait_9_4.jpeg         1   2.191806    Louis     False   \n",
       "2              2       art_6_20.jpeg         2   4.689927    Louis     False   \n",
       "3              3       art_9_12.jpeg         2   3.736233    Louis     False   \n",
       "4              4    nature_10_7.jpeg         1   1.395104    Louis     False   \n",
       "...          ...                 ...       ...        ...      ...       ...   \n",
       "2095        2095       art_4_20.jpeg         5   0.700461  Philipp     False   \n",
       "2096        2096   portrait_9_7.jpeg         3   2.584903  Philipp     False   \n",
       "2097        2097   nature_6_r_7.jpeg         5   1.550584  Philipp      True   \n",
       "2098        2098  nature_7_r_20.jpeg         5   1.204270  Philipp      True   \n",
       "2099        2099  nature_4_r_12.jpeg         4   2.689410  Philipp      True   \n",
       "\n",
       "           image  category     sigma  \n",
       "0       nature_3    nature  original  \n",
       "1     portrait_9  portrait         4  \n",
       "2          art_6       art        20  \n",
       "3          art_9       art        12  \n",
       "4      nature_10    nature         7  \n",
       "...          ...       ...       ...  \n",
       "2095       art_4       art        20  \n",
       "2096  portrait_9  portrait         7  \n",
       "2097    nature_6    nature         7  \n",
       "2098    nature_7    nature        20  \n",
       "2099    nature_4    nature        12  \n",
       "\n",
       "[2100 rows x 9 columns]"
      ]
     },
     "execution_count": 4,
     "metadata": {},
     "output_type": "execute_result"
    }
   ],
   "source": [
    "# explore the first entries in your data\n",
    "df"
   ]
  },
  {
   "cell_type": "markdown",
   "id": "37691f6f",
   "metadata": {},
   "source": [
    "# Check if string name was correctly split into different .csv columns\n"
   ]
  },
  {
   "cell_type": "code",
   "execution_count": 5,
   "id": "6d85f8c6",
   "metadata": {},
   "outputs": [
    {
     "name": "stdout",
     "output_type": "stream",
     "text": [
      "I found  0  errors in the .csv file.\n"
     ]
    }
   ],
   "source": [
    "errors = 0\n",
    "\n",
    "for row in range(0,len(df)):\n",
    "\n",
    "    test_name = df.loc[row]['test_image'] \n",
    "    info = test_name.split(\"_\") #split name string into info list\n",
    "    last = info[-1].split(\".\")  #remove .jpeg\n",
    "    info[-1] = last[0]\n",
    "    \n",
    "    # info = ['category', 'test_image suffix', 'rotation', 'sigma']\n",
    "    # 'rotation' if rotated, 'sigma', if compressed\n",
    "\n",
    "    if 'r' in info:   #handle missing rotation info\n",
    "        str_rot = True \n",
    "    else:\n",
    "        str_rot = False\n",
    "    \n",
    "    csv_cat = df.loc[row]['category']\n",
    "    csv_img = df.loc[row]['image']\n",
    "    csv_rot = df.loc[row]['rotation']\n",
    "    csv_sig = df.loc[row]['sigma']\n",
    "\n",
    "\n",
    "    if (info[0] != csv_cat) or (info[0]+\"_\"+info[1] != csv_img) or (str_rot != csv_rot) or (info[-1] != csv_sig and csv_sig != \"original\"):\n",
    "        print(\"found an error in row \", row)\n",
    "        errors +=1\n",
    "        \n",
    "print(\"I found \", errors, \" errors in the .csv file.\")"
   ]
  },
  {
   "cell_type": "code",
   "execution_count": 6,
   "id": "acoustic-anger",
   "metadata": {},
   "outputs": [
    {
     "data": {
      "text/plain": [
       "5"
      ]
     },
     "execution_count": 6,
     "metadata": {},
     "output_type": "execute_result"
    }
   ],
   "source": [
    "# sanity checks: how many groups do you expect per categorical variable?\n",
    "# in these data we expect :\n",
    "# 5 different 'response' values\n",
    "len(df['response'].unique())"
   ]
  },
  {
   "cell_type": "code",
   "execution_count": 7,
   "id": "twelve-state",
   "metadata": {},
   "outputs": [
    {
     "data": {
      "text/plain": [
       "3"
      ]
     },
     "execution_count": 7,
     "metadata": {},
     "output_type": "execute_result"
    }
   ],
   "source": [
    "# 3 different 'category' values\n",
    "len(df['category'].unique())"
   ]
  },
  {
   "cell_type": "code",
   "execution_count": 8,
   "id": "documentary-sperm",
   "metadata": {},
   "outputs": [
    {
     "data": {
      "text/plain": [
       "30"
      ]
     },
     "execution_count": 8,
     "metadata": {},
     "output_type": "execute_result"
    }
   ],
   "source": [
    "# 30 different images\n",
    "len(df['image'].unique())"
   ]
  },
  {
   "cell_type": "code",
   "execution_count": 9,
   "id": "53cebf02",
   "metadata": {},
   "outputs": [
    {
     "data": {
      "text/plain": [
       "5"
      ]
     },
     "execution_count": 9,
     "metadata": {},
     "output_type": "execute_result"
    }
   ],
   "source": [
    "# 5 different sigmas\n",
    "len(df['sigma'].unique())"
   ]
  },
  {
   "cell_type": "code",
   "execution_count": 10,
   "id": "77118761",
   "metadata": {},
   "outputs": [
    {
     "data": {
      "text/plain": [
       "2"
      ]
     },
     "execution_count": 10,
     "metadata": {},
     "output_type": "execute_result"
    }
   ],
   "source": [
    "# 2 different rotations\n",
    "len(df['rotation'].unique())"
   ]
  },
  {
   "cell_type": "code",
   "execution_count": 11,
   "id": "c6cfadf5",
   "metadata": {},
   "outputs": [
    {
     "data": {
      "text/plain": [
       "300"
      ]
     },
     "execution_count": 11,
     "metadata": {},
     "output_type": "execute_result"
    }
   ],
   "source": [
    "# 300 different test images\n",
    "len(df['test_image'].unique())"
   ]
  },
  {
   "cell_type": "code",
   "execution_count": 12,
   "id": "weird-package",
   "metadata": {},
   "outputs": [
    {
     "data": {
      "text/html": [
       "<div>\n",
       "<style scoped>\n",
       "    .dataframe tbody tr th:only-of-type {\n",
       "        vertical-align: middle;\n",
       "    }\n",
       "\n",
       "    .dataframe tbody tr th {\n",
       "        vertical-align: top;\n",
       "    }\n",
       "\n",
       "    .dataframe thead th {\n",
       "        text-align: right;\n",
       "    }\n",
       "</style>\n",
       "<table border=\"1\" class=\"dataframe\">\n",
       "  <thead>\n",
       "    <tr style=\"text-align: right;\">\n",
       "      <th></th>\n",
       "      <th></th>\n",
       "      <th>Unnamed: 0</th>\n",
       "      <th>response</th>\n",
       "      <th>resptime</th>\n",
       "      <th>proband</th>\n",
       "      <th>rotation</th>\n",
       "      <th>category</th>\n",
       "      <th>sigma</th>\n",
       "    </tr>\n",
       "    <tr>\n",
       "      <th>image</th>\n",
       "      <th>test_image</th>\n",
       "      <th></th>\n",
       "      <th></th>\n",
       "      <th></th>\n",
       "      <th></th>\n",
       "      <th></th>\n",
       "      <th></th>\n",
       "      <th></th>\n",
       "    </tr>\n",
       "  </thead>\n",
       "  <tbody>\n",
       "    <tr>\n",
       "      <th rowspan=\"5\" valign=\"top\">art_1</th>\n",
       "      <th>art_1.jpeg</th>\n",
       "      <td>7</td>\n",
       "      <td>7</td>\n",
       "      <td>7</td>\n",
       "      <td>7</td>\n",
       "      <td>7</td>\n",
       "      <td>7</td>\n",
       "      <td>7</td>\n",
       "    </tr>\n",
       "    <tr>\n",
       "      <th>art_1_12.jpeg</th>\n",
       "      <td>7</td>\n",
       "      <td>7</td>\n",
       "      <td>7</td>\n",
       "      <td>7</td>\n",
       "      <td>7</td>\n",
       "      <td>7</td>\n",
       "      <td>7</td>\n",
       "    </tr>\n",
       "    <tr>\n",
       "      <th>art_1_20.jpeg</th>\n",
       "      <td>7</td>\n",
       "      <td>7</td>\n",
       "      <td>7</td>\n",
       "      <td>7</td>\n",
       "      <td>7</td>\n",
       "      <td>7</td>\n",
       "      <td>7</td>\n",
       "    </tr>\n",
       "    <tr>\n",
       "      <th>art_1_4.jpeg</th>\n",
       "      <td>7</td>\n",
       "      <td>7</td>\n",
       "      <td>7</td>\n",
       "      <td>7</td>\n",
       "      <td>7</td>\n",
       "      <td>7</td>\n",
       "      <td>7</td>\n",
       "    </tr>\n",
       "    <tr>\n",
       "      <th>art_1_7.jpeg</th>\n",
       "      <td>7</td>\n",
       "      <td>7</td>\n",
       "      <td>7</td>\n",
       "      <td>7</td>\n",
       "      <td>7</td>\n",
       "      <td>7</td>\n",
       "      <td>7</td>\n",
       "    </tr>\n",
       "    <tr>\n",
       "      <th>...</th>\n",
       "      <th>...</th>\n",
       "      <td>...</td>\n",
       "      <td>...</td>\n",
       "      <td>...</td>\n",
       "      <td>...</td>\n",
       "      <td>...</td>\n",
       "      <td>...</td>\n",
       "      <td>...</td>\n",
       "    </tr>\n",
       "    <tr>\n",
       "      <th rowspan=\"5\" valign=\"top\">portrait_9</th>\n",
       "      <th>portrait_9_r.jpeg</th>\n",
       "      <td>7</td>\n",
       "      <td>7</td>\n",
       "      <td>7</td>\n",
       "      <td>7</td>\n",
       "      <td>7</td>\n",
       "      <td>7</td>\n",
       "      <td>7</td>\n",
       "    </tr>\n",
       "    <tr>\n",
       "      <th>portrait_9_r_12.jpeg</th>\n",
       "      <td>7</td>\n",
       "      <td>7</td>\n",
       "      <td>7</td>\n",
       "      <td>7</td>\n",
       "      <td>7</td>\n",
       "      <td>7</td>\n",
       "      <td>7</td>\n",
       "    </tr>\n",
       "    <tr>\n",
       "      <th>portrait_9_r_20.jpeg</th>\n",
       "      <td>7</td>\n",
       "      <td>7</td>\n",
       "      <td>7</td>\n",
       "      <td>7</td>\n",
       "      <td>7</td>\n",
       "      <td>7</td>\n",
       "      <td>7</td>\n",
       "    </tr>\n",
       "    <tr>\n",
       "      <th>portrait_9_r_4.jpeg</th>\n",
       "      <td>7</td>\n",
       "      <td>7</td>\n",
       "      <td>7</td>\n",
       "      <td>7</td>\n",
       "      <td>7</td>\n",
       "      <td>7</td>\n",
       "      <td>7</td>\n",
       "    </tr>\n",
       "    <tr>\n",
       "      <th>portrait_9_r_7.jpeg</th>\n",
       "      <td>7</td>\n",
       "      <td>7</td>\n",
       "      <td>7</td>\n",
       "      <td>7</td>\n",
       "      <td>7</td>\n",
       "      <td>7</td>\n",
       "      <td>7</td>\n",
       "    </tr>\n",
       "  </tbody>\n",
       "</table>\n",
       "<p>300 rows × 7 columns</p>\n",
       "</div>"
      ],
      "text/plain": [
       "                                 Unnamed: 0  response  resptime  proband  \\\n",
       "image      test_image                                                      \n",
       "art_1      art_1.jpeg                     7         7         7        7   \n",
       "           art_1_12.jpeg                  7         7         7        7   \n",
       "           art_1_20.jpeg                  7         7         7        7   \n",
       "           art_1_4.jpeg                   7         7         7        7   \n",
       "           art_1_7.jpeg                   7         7         7        7   \n",
       "...                                     ...       ...       ...      ...   \n",
       "portrait_9 portrait_9_r.jpeg              7         7         7        7   \n",
       "           portrait_9_r_12.jpeg           7         7         7        7   \n",
       "           portrait_9_r_20.jpeg           7         7         7        7   \n",
       "           portrait_9_r_4.jpeg            7         7         7        7   \n",
       "           portrait_9_r_7.jpeg            7         7         7        7   \n",
       "\n",
       "                                 rotation  category  sigma  \n",
       "image      test_image                                       \n",
       "art_1      art_1.jpeg                   7         7      7  \n",
       "           art_1_12.jpeg                7         7      7  \n",
       "           art_1_20.jpeg                7         7      7  \n",
       "           art_1_4.jpeg                 7         7      7  \n",
       "           art_1_7.jpeg                 7         7      7  \n",
       "...                                   ...       ...    ...  \n",
       "portrait_9 portrait_9_r.jpeg            7         7      7  \n",
       "           portrait_9_r_12.jpeg         7         7      7  \n",
       "           portrait_9_r_20.jpeg         7         7      7  \n",
       "           portrait_9_r_4.jpeg          7         7      7  \n",
       "           portrait_9_r_7.jpeg          7         7      7  \n",
       "\n",
       "[300 rows x 7 columns]"
      ]
     },
     "execution_count": 12,
     "metadata": {},
     "output_type": "execute_result"
    }
   ],
   "source": [
    "df.groupby(['image', 'test_image']).count()\n",
    "\n",
    "\n",
    "\n",
    "# we expect 30x10=300 different rows of possible image, g combinations\n",
    "agg1 = df.groupby(['image', 'test_image']).count()\n",
    "\n",
    "agg1"
   ]
  },
  {
   "cell_type": "code",
   "execution_count": 13,
   "id": "0665be9f",
   "metadata": {},
   "outputs": [
    {
     "data": {
      "text/plain": [
       "7"
      ]
     },
     "execution_count": 13,
     "metadata": {},
     "output_type": "execute_result"
    }
   ],
   "source": [
    "len(df['proband'].unique())\n",
    "\n"
   ]
  },
  {
   "cell_type": "code",
   "execution_count": 14,
   "id": "silent-crawford",
   "metadata": {},
   "outputs": [
    {
     "data": {
      "text/plain": [
       "300"
      ]
     },
     "execution_count": 14,
     "metadata": {},
     "output_type": "execute_result"
    }
   ],
   "source": [
    "len(agg1)"
   ]
  },
  {
   "cell_type": "markdown",
   "id": "awful-newspaper",
   "metadata": {},
   "source": [
    "## Visualizing data for one image\n"
   ]
  },
  {
   "cell_type": "code",
   "execution_count": 15,
   "id": "iraqi-lebanon",
   "metadata": {},
   "outputs": [],
   "source": [
    "# selecting data for only one picture\n",
    "picname = 'portrait_9'\n",
    "\n",
    "d = df[df['image'] == picname]\n"
   ]
  },
  {
   "cell_type": "code",
   "execution_count": 16,
   "id": "elementary-crawford",
   "metadata": {},
   "outputs": [
    {
     "data": {
      "text/html": [
       "<div>\n",
       "<style scoped>\n",
       "    .dataframe tbody tr th:only-of-type {\n",
       "        vertical-align: middle;\n",
       "    }\n",
       "\n",
       "    .dataframe tbody tr th {\n",
       "        vertical-align: top;\n",
       "    }\n",
       "\n",
       "    .dataframe thead th {\n",
       "        text-align: right;\n",
       "    }\n",
       "</style>\n",
       "<table border=\"1\" class=\"dataframe\">\n",
       "  <thead>\n",
       "    <tr style=\"text-align: right;\">\n",
       "      <th></th>\n",
       "      <th>Unnamed: 0</th>\n",
       "      <th>test_image</th>\n",
       "      <th>response</th>\n",
       "      <th>resptime</th>\n",
       "      <th>proband</th>\n",
       "      <th>rotation</th>\n",
       "      <th>image</th>\n",
       "      <th>category</th>\n",
       "      <th>sigma</th>\n",
       "    </tr>\n",
       "  </thead>\n",
       "  <tbody>\n",
       "    <tr>\n",
       "      <th>1</th>\n",
       "      <td>1</td>\n",
       "      <td>portrait_9_4.jpeg</td>\n",
       "      <td>1</td>\n",
       "      <td>2.191806</td>\n",
       "      <td>Louis</td>\n",
       "      <td>False</td>\n",
       "      <td>portrait_9</td>\n",
       "      <td>portrait</td>\n",
       "      <td>4</td>\n",
       "    </tr>\n",
       "    <tr>\n",
       "      <th>23</th>\n",
       "      <td>23</td>\n",
       "      <td>portrait_9_r_20.jpeg</td>\n",
       "      <td>4</td>\n",
       "      <td>4.689160</td>\n",
       "      <td>Louis</td>\n",
       "      <td>True</td>\n",
       "      <td>portrait_9</td>\n",
       "      <td>portrait</td>\n",
       "      <td>20</td>\n",
       "    </tr>\n",
       "    <tr>\n",
       "      <th>63</th>\n",
       "      <td>63</td>\n",
       "      <td>portrait_9_20.jpeg</td>\n",
       "      <td>4</td>\n",
       "      <td>11.031636</td>\n",
       "      <td>Louis</td>\n",
       "      <td>False</td>\n",
       "      <td>portrait_9</td>\n",
       "      <td>portrait</td>\n",
       "      <td>20</td>\n",
       "    </tr>\n",
       "    <tr>\n",
       "      <th>71</th>\n",
       "      <td>71</td>\n",
       "      <td>portrait_9_r_7.jpeg</td>\n",
       "      <td>1</td>\n",
       "      <td>3.075401</td>\n",
       "      <td>Louis</td>\n",
       "      <td>True</td>\n",
       "      <td>portrait_9</td>\n",
       "      <td>portrait</td>\n",
       "      <td>7</td>\n",
       "    </tr>\n",
       "    <tr>\n",
       "      <th>83</th>\n",
       "      <td>83</td>\n",
       "      <td>portrait_9_r_4.jpeg</td>\n",
       "      <td>1</td>\n",
       "      <td>1.610745</td>\n",
       "      <td>Louis</td>\n",
       "      <td>True</td>\n",
       "      <td>portrait_9</td>\n",
       "      <td>portrait</td>\n",
       "      <td>4</td>\n",
       "    </tr>\n",
       "    <tr>\n",
       "      <th>...</th>\n",
       "      <td>...</td>\n",
       "      <td>...</td>\n",
       "      <td>...</td>\n",
       "      <td>...</td>\n",
       "      <td>...</td>\n",
       "      <td>...</td>\n",
       "      <td>...</td>\n",
       "      <td>...</td>\n",
       "      <td>...</td>\n",
       "    </tr>\n",
       "    <tr>\n",
       "      <th>1899</th>\n",
       "      <td>1899</td>\n",
       "      <td>portrait_9_r.jpeg</td>\n",
       "      <td>5</td>\n",
       "      <td>0.858795</td>\n",
       "      <td>Philipp</td>\n",
       "      <td>True</td>\n",
       "      <td>portrait_9</td>\n",
       "      <td>portrait</td>\n",
       "      <td>original</td>\n",
       "    </tr>\n",
       "    <tr>\n",
       "      <th>1945</th>\n",
       "      <td>1945</td>\n",
       "      <td>portrait_9_r_12.jpeg</td>\n",
       "      <td>5</td>\n",
       "      <td>3.412084</td>\n",
       "      <td>Philipp</td>\n",
       "      <td>True</td>\n",
       "      <td>portrait_9</td>\n",
       "      <td>portrait</td>\n",
       "      <td>12</td>\n",
       "    </tr>\n",
       "    <tr>\n",
       "      <th>2069</th>\n",
       "      <td>2069</td>\n",
       "      <td>portrait_9_12.jpeg</td>\n",
       "      <td>4</td>\n",
       "      <td>1.843154</td>\n",
       "      <td>Philipp</td>\n",
       "      <td>False</td>\n",
       "      <td>portrait_9</td>\n",
       "      <td>portrait</td>\n",
       "      <td>12</td>\n",
       "    </tr>\n",
       "    <tr>\n",
       "      <th>2077</th>\n",
       "      <td>2077</td>\n",
       "      <td>portrait_9.jpeg</td>\n",
       "      <td>5</td>\n",
       "      <td>0.877916</td>\n",
       "      <td>Philipp</td>\n",
       "      <td>False</td>\n",
       "      <td>portrait_9</td>\n",
       "      <td>portrait</td>\n",
       "      <td>original</td>\n",
       "    </tr>\n",
       "    <tr>\n",
       "      <th>2096</th>\n",
       "      <td>2096</td>\n",
       "      <td>portrait_9_7.jpeg</td>\n",
       "      <td>3</td>\n",
       "      <td>2.584903</td>\n",
       "      <td>Philipp</td>\n",
       "      <td>False</td>\n",
       "      <td>portrait_9</td>\n",
       "      <td>portrait</td>\n",
       "      <td>7</td>\n",
       "    </tr>\n",
       "  </tbody>\n",
       "</table>\n",
       "<p>70 rows × 9 columns</p>\n",
       "</div>"
      ],
      "text/plain": [
       "      Unnamed: 0            test_image  response   resptime  proband  \\\n",
       "1              1     portrait_9_4.jpeg         1   2.191806    Louis   \n",
       "23            23  portrait_9_r_20.jpeg         4   4.689160    Louis   \n",
       "63            63    portrait_9_20.jpeg         4  11.031636    Louis   \n",
       "71            71   portrait_9_r_7.jpeg         1   3.075401    Louis   \n",
       "83            83   portrait_9_r_4.jpeg         1   1.610745    Louis   \n",
       "...          ...                   ...       ...        ...      ...   \n",
       "1899        1899     portrait_9_r.jpeg         5   0.858795  Philipp   \n",
       "1945        1945  portrait_9_r_12.jpeg         5   3.412084  Philipp   \n",
       "2069        2069    portrait_9_12.jpeg         4   1.843154  Philipp   \n",
       "2077        2077       portrait_9.jpeg         5   0.877916  Philipp   \n",
       "2096        2096     portrait_9_7.jpeg         3   2.584903  Philipp   \n",
       "\n",
       "      rotation       image  category     sigma  \n",
       "1        False  portrait_9  portrait         4  \n",
       "23        True  portrait_9  portrait        20  \n",
       "63       False  portrait_9  portrait        20  \n",
       "71        True  portrait_9  portrait         7  \n",
       "83        True  portrait_9  portrait         4  \n",
       "...        ...         ...       ...       ...  \n",
       "1899      True  portrait_9  portrait  original  \n",
       "1945      True  portrait_9  portrait        12  \n",
       "2069     False  portrait_9  portrait        12  \n",
       "2077     False  portrait_9  portrait  original  \n",
       "2096     False  portrait_9  portrait         7  \n",
       "\n",
       "[70 rows x 9 columns]"
      ]
     },
     "execution_count": 16,
     "metadata": {},
     "output_type": "execute_result"
    }
   ],
   "source": [
    "d"
   ]
  },
  {
   "cell_type": "code",
   "execution_count": 17,
   "id": "commercial-operation",
   "metadata": {},
   "outputs": [
    {
     "data": {
      "image/png": "[encoded data removed]",
      "text/plain": [
       "<Figure size 432x288 with 1 Axes>"
      ]
     },
     "metadata": {
      "needs_background": "light"
     },
     "output_type": "display_data"
    }
   ],
   "source": [
    "# distribution of quality values for this image category\n",
    "plt.hist(d['response'])\n",
    "plt.xlabel('Quality')\n",
    "plt.ylabel('Frequency')\n",
    "plt.xlim((1, 5))\n",
    "sns.despine()"
   ]
  },
  {
   "cell_type": "markdown",
   "id": "charitable-merit",
   "metadata": {},
   "source": [
    "## Visualizing data from all pictures"
   ]
  },
  {
   "cell_type": "markdown",
   "id": "c6ad2b3c",
   "metadata": {},
   "source": [
    "## right side up pictures"
   ]
  },
  {
   "cell_type": "code",
   "execution_count": 18,
   "id": "19ffa505",
   "metadata": {},
   "outputs": [
    {
     "data": {
      "text/html": [
       "<div>\n",
       "<style scoped>\n",
       "    .dataframe tbody tr th:only-of-type {\n",
       "        vertical-align: middle;\n",
       "    }\n",
       "\n",
       "    .dataframe tbody tr th {\n",
       "        vertical-align: top;\n",
       "    }\n",
       "\n",
       "    .dataframe thead th {\n",
       "        text-align: right;\n",
       "    }\n",
       "</style>\n",
       "<table border=\"1\" class=\"dataframe\">\n",
       "  <thead>\n",
       "    <tr style=\"text-align: right;\">\n",
       "      <th></th>\n",
       "      <th>Unnamed: 0</th>\n",
       "      <th>test_image</th>\n",
       "      <th>response</th>\n",
       "      <th>resptime</th>\n",
       "      <th>proband</th>\n",
       "      <th>rotation</th>\n",
       "      <th>image</th>\n",
       "      <th>category</th>\n",
       "      <th>sigma</th>\n",
       "    </tr>\n",
       "  </thead>\n",
       "  <tbody>\n",
       "    <tr>\n",
       "      <th>1</th>\n",
       "      <td>1</td>\n",
       "      <td>portrait_9_4.jpeg</td>\n",
       "      <td>1</td>\n",
       "      <td>2.191806</td>\n",
       "      <td>Louis</td>\n",
       "      <td>False</td>\n",
       "      <td>portrait_9</td>\n",
       "      <td>portrait</td>\n",
       "      <td>4</td>\n",
       "    </tr>\n",
       "    <tr>\n",
       "      <th>2</th>\n",
       "      <td>2</td>\n",
       "      <td>art_6_20.jpeg</td>\n",
       "      <td>2</td>\n",
       "      <td>4.689927</td>\n",
       "      <td>Louis</td>\n",
       "      <td>False</td>\n",
       "      <td>art_6</td>\n",
       "      <td>art</td>\n",
       "      <td>20</td>\n",
       "    </tr>\n",
       "    <tr>\n",
       "      <th>3</th>\n",
       "      <td>3</td>\n",
       "      <td>art_9_12.jpeg</td>\n",
       "      <td>2</td>\n",
       "      <td>3.736233</td>\n",
       "      <td>Louis</td>\n",
       "      <td>False</td>\n",
       "      <td>art_9</td>\n",
       "      <td>art</td>\n",
       "      <td>12</td>\n",
       "    </tr>\n",
       "    <tr>\n",
       "      <th>4</th>\n",
       "      <td>4</td>\n",
       "      <td>nature_10_7.jpeg</td>\n",
       "      <td>1</td>\n",
       "      <td>1.395104</td>\n",
       "      <td>Louis</td>\n",
       "      <td>False</td>\n",
       "      <td>nature_10</td>\n",
       "      <td>nature</td>\n",
       "      <td>7</td>\n",
       "    </tr>\n",
       "    <tr>\n",
       "      <th>6</th>\n",
       "      <td>6</td>\n",
       "      <td>art_5.jpeg</td>\n",
       "      <td>3</td>\n",
       "      <td>5.888736</td>\n",
       "      <td>Louis</td>\n",
       "      <td>False</td>\n",
       "      <td>art_5</td>\n",
       "      <td>art</td>\n",
       "      <td>original</td>\n",
       "    </tr>\n",
       "    <tr>\n",
       "      <th>...</th>\n",
       "      <td>...</td>\n",
       "      <td>...</td>\n",
       "      <td>...</td>\n",
       "      <td>...</td>\n",
       "      <td>...</td>\n",
       "      <td>...</td>\n",
       "      <td>...</td>\n",
       "      <td>...</td>\n",
       "      <td>...</td>\n",
       "    </tr>\n",
       "    <tr>\n",
       "      <th>2088</th>\n",
       "      <td>2088</td>\n",
       "      <td>art_6_12.jpeg</td>\n",
       "      <td>5</td>\n",
       "      <td>1.111426</td>\n",
       "      <td>Philipp</td>\n",
       "      <td>False</td>\n",
       "      <td>art_6</td>\n",
       "      <td>art</td>\n",
       "      <td>12</td>\n",
       "    </tr>\n",
       "    <tr>\n",
       "      <th>2090</th>\n",
       "      <td>2090</td>\n",
       "      <td>nature_8.jpeg</td>\n",
       "      <td>5</td>\n",
       "      <td>0.937700</td>\n",
       "      <td>Philipp</td>\n",
       "      <td>False</td>\n",
       "      <td>nature_8</td>\n",
       "      <td>nature</td>\n",
       "      <td>original</td>\n",
       "    </tr>\n",
       "    <tr>\n",
       "      <th>2094</th>\n",
       "      <td>2094</td>\n",
       "      <td>portrait_1.jpeg</td>\n",
       "      <td>5</td>\n",
       "      <td>0.887019</td>\n",
       "      <td>Philipp</td>\n",
       "      <td>False</td>\n",
       "      <td>portrait_1</td>\n",
       "      <td>portrait</td>\n",
       "      <td>original</td>\n",
       "    </tr>\n",
       "    <tr>\n",
       "      <th>2095</th>\n",
       "      <td>2095</td>\n",
       "      <td>art_4_20.jpeg</td>\n",
       "      <td>5</td>\n",
       "      <td>0.700461</td>\n",
       "      <td>Philipp</td>\n",
       "      <td>False</td>\n",
       "      <td>art_4</td>\n",
       "      <td>art</td>\n",
       "      <td>20</td>\n",
       "    </tr>\n",
       "    <tr>\n",
       "      <th>2096</th>\n",
       "      <td>2096</td>\n",
       "      <td>portrait_9_7.jpeg</td>\n",
       "      <td>3</td>\n",
       "      <td>2.584903</td>\n",
       "      <td>Philipp</td>\n",
       "      <td>False</td>\n",
       "      <td>portrait_9</td>\n",
       "      <td>portrait</td>\n",
       "      <td>7</td>\n",
       "    </tr>\n",
       "  </tbody>\n",
       "</table>\n",
       "<p>1050 rows × 9 columns</p>\n",
       "</div>"
      ],
      "text/plain": [
       "      Unnamed: 0         test_image  response  resptime  proband  rotation  \\\n",
       "1              1  portrait_9_4.jpeg         1  2.191806    Louis     False   \n",
       "2              2      art_6_20.jpeg         2  4.689927    Louis     False   \n",
       "3              3      art_9_12.jpeg         2  3.736233    Louis     False   \n",
       "4              4   nature_10_7.jpeg         1  1.395104    Louis     False   \n",
       "6              6         art_5.jpeg         3  5.888736    Louis     False   \n",
       "...          ...                ...       ...       ...      ...       ...   \n",
       "2088        2088      art_6_12.jpeg         5  1.111426  Philipp     False   \n",
       "2090        2090      nature_8.jpeg         5  0.937700  Philipp     False   \n",
       "2094        2094    portrait_1.jpeg         5  0.887019  Philipp     False   \n",
       "2095        2095      art_4_20.jpeg         5  0.700461  Philipp     False   \n",
       "2096        2096  portrait_9_7.jpeg         3  2.584903  Philipp     False   \n",
       "\n",
       "           image  category     sigma  \n",
       "1     portrait_9  portrait         4  \n",
       "2          art_6       art        20  \n",
       "3          art_9       art        12  \n",
       "4      nature_10    nature         7  \n",
       "6          art_5       art  original  \n",
       "...          ...       ...       ...  \n",
       "2088       art_6       art        12  \n",
       "2090    nature_8    nature  original  \n",
       "2094  portrait_1  portrait  original  \n",
       "2095       art_4       art        20  \n",
       "2096  portrait_9  portrait         7  \n",
       "\n",
       "[1050 rows x 9 columns]"
      ]
     },
     "execution_count": 18,
     "metadata": {},
     "output_type": "execute_result"
    }
   ],
   "source": [
    "rsu = df[df['rotation'] == False]\n",
    "\n",
    "rsu"
   ]
  },
  {
   "cell_type": "markdown",
   "id": "b522f608",
   "metadata": {},
   "source": [
    "## upside down pictures"
   ]
  },
  {
   "cell_type": "code",
   "execution_count": 19,
   "id": "45d05687",
   "metadata": {},
   "outputs": [
    {
     "data": {
      "text/html": [
       "<div>\n",
       "<style scoped>\n",
       "    .dataframe tbody tr th:only-of-type {\n",
       "        vertical-align: middle;\n",
       "    }\n",
       "\n",
       "    .dataframe tbody tr th {\n",
       "        vertical-align: top;\n",
       "    }\n",
       "\n",
       "    .dataframe thead th {\n",
       "        text-align: right;\n",
       "    }\n",
       "</style>\n",
       "<table border=\"1\" class=\"dataframe\">\n",
       "  <thead>\n",
       "    <tr style=\"text-align: right;\">\n",
       "      <th></th>\n",
       "      <th>Unnamed: 0</th>\n",
       "      <th>test_image</th>\n",
       "      <th>response</th>\n",
       "      <th>resptime</th>\n",
       "      <th>proband</th>\n",
       "      <th>rotation</th>\n",
       "      <th>image</th>\n",
       "      <th>category</th>\n",
       "      <th>sigma</th>\n",
       "    </tr>\n",
       "  </thead>\n",
       "  <tbody>\n",
       "    <tr>\n",
       "      <th>0</th>\n",
       "      <td>0</td>\n",
       "      <td>nature_3_r.jpeg</td>\n",
       "      <td>4</td>\n",
       "      <td>28.686909</td>\n",
       "      <td>Louis</td>\n",
       "      <td>True</td>\n",
       "      <td>nature_3</td>\n",
       "      <td>nature</td>\n",
       "      <td>original</td>\n",
       "    </tr>\n",
       "    <tr>\n",
       "      <th>5</th>\n",
       "      <td>5</td>\n",
       "      <td>nature_9_r.jpeg</td>\n",
       "      <td>4</td>\n",
       "      <td>1.178283</td>\n",
       "      <td>Louis</td>\n",
       "      <td>True</td>\n",
       "      <td>nature_9</td>\n",
       "      <td>nature</td>\n",
       "      <td>original</td>\n",
       "    </tr>\n",
       "    <tr>\n",
       "      <th>8</th>\n",
       "      <td>8</td>\n",
       "      <td>portrait_4_r_4.jpeg</td>\n",
       "      <td>1</td>\n",
       "      <td>1.162729</td>\n",
       "      <td>Louis</td>\n",
       "      <td>True</td>\n",
       "      <td>portrait_4</td>\n",
       "      <td>portrait</td>\n",
       "      <td>4</td>\n",
       "    </tr>\n",
       "    <tr>\n",
       "      <th>12</th>\n",
       "      <td>12</td>\n",
       "      <td>nature_2_r_20.jpeg</td>\n",
       "      <td>2</td>\n",
       "      <td>5.272169</td>\n",
       "      <td>Louis</td>\n",
       "      <td>True</td>\n",
       "      <td>nature_2</td>\n",
       "      <td>nature</td>\n",
       "      <td>20</td>\n",
       "    </tr>\n",
       "    <tr>\n",
       "      <th>13</th>\n",
       "      <td>13</td>\n",
       "      <td>nature_9_r_20.jpeg</td>\n",
       "      <td>2</td>\n",
       "      <td>4.830855</td>\n",
       "      <td>Louis</td>\n",
       "      <td>True</td>\n",
       "      <td>nature_9</td>\n",
       "      <td>nature</td>\n",
       "      <td>20</td>\n",
       "    </tr>\n",
       "    <tr>\n",
       "      <th>...</th>\n",
       "      <td>...</td>\n",
       "      <td>...</td>\n",
       "      <td>...</td>\n",
       "      <td>...</td>\n",
       "      <td>...</td>\n",
       "      <td>...</td>\n",
       "      <td>...</td>\n",
       "      <td>...</td>\n",
       "      <td>...</td>\n",
       "    </tr>\n",
       "    <tr>\n",
       "      <th>2092</th>\n",
       "      <td>2092</td>\n",
       "      <td>nature_4_r.jpeg</td>\n",
       "      <td>4</td>\n",
       "      <td>1.097267</td>\n",
       "      <td>Philipp</td>\n",
       "      <td>True</td>\n",
       "      <td>nature_4</td>\n",
       "      <td>nature</td>\n",
       "      <td>original</td>\n",
       "    </tr>\n",
       "    <tr>\n",
       "      <th>2093</th>\n",
       "      <td>2093</td>\n",
       "      <td>portrait_5_r_7.jpeg</td>\n",
       "      <td>3</td>\n",
       "      <td>1.400931</td>\n",
       "      <td>Philipp</td>\n",
       "      <td>True</td>\n",
       "      <td>portrait_5</td>\n",
       "      <td>portrait</td>\n",
       "      <td>7</td>\n",
       "    </tr>\n",
       "    <tr>\n",
       "      <th>2097</th>\n",
       "      <td>2097</td>\n",
       "      <td>nature_6_r_7.jpeg</td>\n",
       "      <td>5</td>\n",
       "      <td>1.550584</td>\n",
       "      <td>Philipp</td>\n",
       "      <td>True</td>\n",
       "      <td>nature_6</td>\n",
       "      <td>nature</td>\n",
       "      <td>7</td>\n",
       "    </tr>\n",
       "    <tr>\n",
       "      <th>2098</th>\n",
       "      <td>2098</td>\n",
       "      <td>nature_7_r_20.jpeg</td>\n",
       "      <td>5</td>\n",
       "      <td>1.204270</td>\n",
       "      <td>Philipp</td>\n",
       "      <td>True</td>\n",
       "      <td>nature_7</td>\n",
       "      <td>nature</td>\n",
       "      <td>20</td>\n",
       "    </tr>\n",
       "    <tr>\n",
       "      <th>2099</th>\n",
       "      <td>2099</td>\n",
       "      <td>nature_4_r_12.jpeg</td>\n",
       "      <td>4</td>\n",
       "      <td>2.689410</td>\n",
       "      <td>Philipp</td>\n",
       "      <td>True</td>\n",
       "      <td>nature_4</td>\n",
       "      <td>nature</td>\n",
       "      <td>12</td>\n",
       "    </tr>\n",
       "  </tbody>\n",
       "</table>\n",
       "<p>1050 rows × 9 columns</p>\n",
       "</div>"
      ],
      "text/plain": [
       "      Unnamed: 0           test_image  response   resptime  proband  rotation  \\\n",
       "0              0      nature_3_r.jpeg         4  28.686909    Louis      True   \n",
       "5              5      nature_9_r.jpeg         4   1.178283    Louis      True   \n",
       "8              8  portrait_4_r_4.jpeg         1   1.162729    Louis      True   \n",
       "12            12   nature_2_r_20.jpeg         2   5.272169    Louis      True   \n",
       "13            13   nature_9_r_20.jpeg         2   4.830855    Louis      True   \n",
       "...          ...                  ...       ...        ...      ...       ...   \n",
       "2092        2092      nature_4_r.jpeg         4   1.097267  Philipp      True   \n",
       "2093        2093  portrait_5_r_7.jpeg         3   1.400931  Philipp      True   \n",
       "2097        2097    nature_6_r_7.jpeg         5   1.550584  Philipp      True   \n",
       "2098        2098   nature_7_r_20.jpeg         5   1.204270  Philipp      True   \n",
       "2099        2099   nature_4_r_12.jpeg         4   2.689410  Philipp      True   \n",
       "\n",
       "           image  category     sigma  \n",
       "0       nature_3    nature  original  \n",
       "5       nature_9    nature  original  \n",
       "8     portrait_4  portrait         4  \n",
       "12      nature_2    nature        20  \n",
       "13      nature_9    nature        20  \n",
       "...          ...       ...       ...  \n",
       "2092    nature_4    nature  original  \n",
       "2093  portrait_5  portrait         7  \n",
       "2097    nature_6    nature         7  \n",
       "2098    nature_7    nature        20  \n",
       "2099    nature_4    nature        12  \n",
       "\n",
       "[1050 rows x 9 columns]"
      ]
     },
     "execution_count": 19,
     "metadata": {},
     "output_type": "execute_result"
    }
   ],
   "source": [
    "usd = df[df['rotation'] == True]\n",
    "\n",
    "usd"
   ]
  },
  {
   "cell_type": "markdown",
   "id": "62240616",
   "metadata": {},
   "source": [
    "# Fokussing on orientation"
   ]
  },
  {
   "cell_type": "code",
   "execution_count": 20,
   "id": "3a9741fb",
   "metadata": {},
   "outputs": [
    {
     "data": {
      "image/png": "[encoded data removed]",
      "text/plain": [
       "<Figure size 432x288 with 1 Axes>"
      ]
     },
     "metadata": {
      "needs_background": "light"
     },
     "output_type": "display_data"
    }
   ],
   "source": [
    "# distribution of quality values for each image orientation\n",
    "plt.hist([rsu['response'],usd['response']])\n",
    "plt.xlabel('Response')\n",
    "plt.ylabel('Frequency')\n",
    "plt.xlim((1, 5))\n",
    "plt.title(\"Histogram \\n RSU vs. USD\")\n",
    "plt.legend(['Right side up', 'Up side Down'], loc = 'lower right')\n",
    "sns.despine()"
   ]
  },
  {
   "cell_type": "code",
   "execution_count": 21,
   "id": "55399d50",
   "metadata": {},
   "outputs": [
    {
     "data": {
      "text/plain": [
       "Text(0.5, 1.0, 'Avg. Responses\\n RSU vs. USD')"
      ]
     },
     "execution_count": 21,
     "metadata": {},
     "output_type": "execute_result"
    },
    {
     "data": {
      "image/png": "[encoded data removed]",
      "text/plain": [
       "<Figure size 460.65x360 with 1 Axes>"
      ]
     },
     "metadata": {
      "needs_background": "light"
     },
     "output_type": "display_data"
    }
   ],
   "source": [
    "# %% collapsing all pictures into one visualization\n",
    "g = sns.catplot(x='sigma', y='response', data=df, hue='rotation',\n",
    "                kind='bar', ci='sd', errwidth=2,\n",
    "                palette='Greens', order=['4', '7', '12', '20', 'original'])\n",
    "g.set_ylabels('Response')\n",
    "g.set_xlabels('Compression')\n",
    "g.set(ylim = (1, 5))\n",
    "\n",
    "plt.title('Avg. Responses\\n RSU vs. USD')\n",
    "#g.savefig('allpictures_aggregated.pdf')\n"
   ]
  },
  {
   "cell_type": "markdown",
   "id": "79b907f0",
   "metadata": {},
   "source": [
    "# Focusing on Categories"
   ]
  },
  {
   "cell_type": "code",
   "execution_count": 22,
   "id": "fddc65f8",
   "metadata": {},
   "outputs": [],
   "source": [
    "por = df[df['category'] == 'portrait']\n",
    "nat = df[df['category'] == 'nature']\n",
    "art = df[df['category'] == 'art']"
   ]
  },
  {
   "cell_type": "code",
   "execution_count": 23,
   "id": "c2560b98",
   "metadata": {},
   "outputs": [
    {
     "data": {
      "image/png": "[encoded data removed]",
      "text/plain": [
       "<Figure size 432x288 with 1 Axes>"
      ]
     },
     "metadata": {
      "needs_background": "light"
     },
     "output_type": "display_data"
    }
   ],
   "source": [
    "# distribution of quality values for each image orientation\n",
    "plt.hist([por['response'],nat['response'],art['response']])\n",
    "plt.xlabel('Response')\n",
    "plt.ylabel('Frequency')\n",
    "plt.xlim((1, 5))\n",
    "plt.title(\"Histogram \\n per category\")\n",
    "plt.legend(['Portrait', 'Nature', 'Art'], loc = 'lower right')\n",
    "sns.despine()"
   ]
  },
  {
   "cell_type": "markdown",
   "id": "165ff674",
   "metadata": {},
   "source": [
    "## Geom. Geläufigkeit & inhaltl. Geläufigkeit\n",
    "\n",
    "|                      | Inhaltlich geläufig          | Inhaltich fremd|\n",
    "| -------------------- |:----------------------------:| --------------:|\n",
    "| **Geometrisch geläufig** | `am besten` | `schlechter`|\n",
    "| **Geometrisch fremd**    | `schlechter`  | `am schlechtesten` |\n",
    "\n",
    "|                      | Inhaltlich geläufig          | Inhaltich fremd|\n",
    "| -------------------- |:----------------------------:| --------------:|\n",
    "| **Geometrisch geläufig** | `ig-gg` | `if-gg`|\n",
    "| **Geometrisch fremd**    | `ig-gf`  | `if-gf` |"
   ]
  },
  {
   "cell_type": "code",
   "execution_count": 47,
   "id": "2432a230",
   "metadata": {},
   "outputs": [],
   "source": [
    "iggg = df[(df['category'] == 'portrait') & (df['rotation'] == False)]\n",
    "ifgg = df[((df['category'] == 'nature') | (df['category'] == 'art')) & (df['rotation'] == False)]\n",
    "\n",
    "iggf = df[(df['category'] == 'portrait') & (df['rotation'] == True)]\n",
    "ifgf = df[((df['category'] == 'nature') | (df['category'] == 'art')) & (df['rotation'] == True)]"
   ]
  },
  {
   "cell_type": "markdown",
   "id": "c00a2c91",
   "metadata": {},
   "source": [
    "## ig-gg versus ig-gf (Portraits unrotiert vs. Portraits rotiert)"
   ]
  },
  {
   "cell_type": "code",
   "execution_count": 51,
   "id": "631838c1",
   "metadata": {},
   "outputs": [
    {
     "data": {
      "text/plain": [
       "<seaborn.axisgrid.FacetGrid at 0x7fbca8c57310>"
      ]
     },
     "execution_count": 51,
     "metadata": {},
     "output_type": "execute_result"
    },
    {
     "data": {
      "image/png": "[encoded data removed]",
      "text/plain": [
       "<Figure size 1800x360 with 5 Axes>"
      ]
     },
     "metadata": {
      "needs_background": "light"
     },
     "output_type": "display_data"
    },
    {
     "data": {
      "image/png": "[encoded data removed]",
      "text/plain": [
       "<Figure size 1800x360 with 5 Axes>"
      ]
     },
     "metadata": {
      "needs_background": "light"
     },
     "output_type": "display_data"
    }
   ],
   "source": [
    "sns.displot(iggg, x=\"response\", col=\"sigma\",col_wrap=5, col_order=['4', '7', '12', '20', 'original']).set(ylim=(0,70))\n",
    "sns.displot(iggf, x=\"response\", col=\"sigma\",col_wrap=5, col_order=['4', '7', '12', '20', 'original']).set(ylim=(0,70))"
   ]
  },
  {
   "cell_type": "code",
   "execution_count": null,
   "id": "52787006",
   "metadata": {},
   "outputs": [],
   "source": []
  }
 ],
 "metadata": {
  "kernelspec": {
   "display_name": "Python 3",
   "language": "python",
   "name": "python3"
  },
  "language_info": {
   "codemirror_mode": {
    "name": "ipython",
    "version": 3
   },
   "file_extension": ".py",
   "mimetype": "text/x-python",
   "name": "python",
   "nbconvert_exporter": "python",
   "pygments_lexer": "ipython3",
   "version": "3.8.2"
  }
 },
 "nbformat": 4,
 "nbformat_minor": 5
}
