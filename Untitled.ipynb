{
 "cells": [
  {
   "cell_type": "code",
   "execution_count": 1,
   "id": "33d556f1",
   "metadata": {},
   "outputs": [],
   "source": [
    "import numpy as np\n",
    "import matplotlib.pyplot as plt\n",
    "from scipy import ndimage\n",
    "from PIL import Image\n",
    "from os import walk"
   ]
  },
  {
   "cell_type": "code",
   "execution_count": 2,
   "id": "c1f9a8d8",
   "metadata": {},
   "outputs": [],
   "source": [
    "# config\n",
    "path = r\"/Users/johann/PycharmProjects/PiQ/images_joh/edit/\"\n",
    "N = 5\n",
    "figSize = (15, 15)\n",
    "dpi = 100"
   ]
  },
  {
   "cell_type": "code",
   "execution_count": null,
   "id": "58aa7d1e",
   "metadata": {},
   "outputs": [],
   "source": [
    "# load imgs\n",
    "f = {}\n",
    "filenames = walk(path)\n",
    "shape = {}\n",
    "index_map = {}\n",
    "for _, _, filename in filenames:\n",
    "    for i, file in enumerate(filename):\n",
    "        f[file] = np.array(Image.open(path+\"/\"+file))\n",
    "        index_map[i] = file "
   ]
  },
  {
   "cell_type": "code",
   "execution_count": null,
   "id": "a3ef9740",
   "metadata": {},
   "outputs": [],
   "source": []
  }
 ],
 "metadata": {
  "kernelspec": {
   "display_name": "Python 3 (ipykernel)",
   "language": "python",
   "name": "python3"
  },
  "language_info": {
   "codemirror_mode": {
    "name": "ipython",
    "version": 3
   },
   "file_extension": ".py",
   "mimetype": "text/x-python",
   "name": "python",
   "nbconvert_exporter": "python",
   "pygments_lexer": "ipython3",
   "version": "3.10.0"
  }
 },
 "nbformat": 4,
 "nbformat_minor": 5
}
