{
 "cells": [
  {
   "cell_type": "code",
   "execution_count": null,
   "id": "88706474",
   "metadata": {},
   "outputs": [],
   "source": [
    "import numpy as np\n",
    "import matplotlib.pyplot as plt\n",
    "from scipy import ndimage\n",
    "from io import BytesIO\n",
    "import itertools\n",
    "# Pillow library, to manipulate images\n",
    "from PIL import Image\n",
    "from os import walk\n",
    "\n",
    "#https://towardsdatascience.com/image-processing-with-python-5b35320a4f3c\n",
    "#https://github.com/TimChinenov/VaporWaveArt"
   ]
  },
  {
   "cell_type": "code",
   "execution_count": null,
   "id": "d7d4f8c5",
   "metadata": {},
   "outputs": [],
   "source": [
    "# config\n",
    "path = r\"./Original\"\n",
    "N = 2\n",
    "figSize = (20, 20)\n",
    "dpi = 300"
   ]
  },
  {
   "cell_type": "code",
   "execution_count": null,
   "id": "7b2dfb9c",
   "metadata": {},
   "outputs": [],
   "source": [
    "def rename_file(filename, foo):\n",
    "    s = filename.split('.')\n",
    "    return s[0]+foo+\".\"+'bmp'"
   ]
  },
  {
   "cell_type": "code",
   "execution_count": null,
   "id": "b973b395",
   "metadata": {},
   "outputs": [],
   "source": [
    "f = {}\n",
    "f_upside = {}\n",
    "filenames = walk(path)\n",
    "shape = {}\n",
    "index_map = {}\n",
    "s = 1200\n",
    "x, y = 0, 0\n",
    "for _, _, filename in filenames: \n",
    "    for i, file in enumerate(filename):\n",
    "        f[file] = np.array(Image.open(path+\"/\"+file))[y:y+s, x:x+s]\n",
    "        filename = rename_file(file, \"_r\")\n",
    "        f[filename] = np.rot90(np.array(Image.open(path+\"/\"+file))[y:y+s, x:x+s], 2)"
   ]
  },
  {
   "cell_type": "code",
   "execution_count": null,
   "id": "f72789a0",
   "metadata": {},
   "outputs": [],
   "source": [
    "def reshape_split(image: np.ndarray, kernel_size: tuple):\n",
    "#https://towardsdatascience.com/efficiently-splitting-an-image-into-tiles-in-python-using-numpy-d1bf0dd7b6f7\n",
    "    img_height, img_width, channels = image.shape\n",
    "    tile_height, tile_width = kernel_size\n",
    "\n",
    "    tiled_array = image.reshape(img_height // tile_height, tile_height, img_width // tile_width, tile_width, channels)\n",
    "    tiled_array = tiled_array.swapaxes(0, 2)\n",
    "    return tiled_array"
   ]
  },
  {
   "cell_type": "code",
   "execution_count": null,
   "id": "ae6c715c",
   "metadata": {},
   "outputs": [],
   "source": [
    "def normalize_to_range(x, endrange):\n",
    "    \"\"\" \n",
    "    Function that normalizes an input array or matrix to a desired range \n",
    "    using a linear transformation.\n",
    "    \n",
    "    A system of two linear equations that map from one range (max-min) \n",
    "    to the desired range \n",
    "    \n",
    "    y_min = a*x_min + b\n",
    "    y_max = a*x_max + b\n",
    "    \n",
    "    Two equations with two unknowns. Analytical solutions for a and b are:\n",
    "    \n",
    "    a = (y_max - y_min) / (x_max - x_min)\n",
    "    b = y_max - a*x_max\n",
    "    \n",
    "    \"\"\"\n",
    "    \n",
    "    a = (endrange[1] - endrange[0]) / (x.max() - x.min())  \n",
    "    b = endrange[1] - a*x.max()\n",
    "    \n",
    "    return a*x+b "
   ]
  },
  {
   "cell_type": "code",
   "execution_count": null,
   "id": "dcd779fe",
   "metadata": {},
   "outputs": [],
   "source": [
    "def join_dicts(a, b):\n",
    "    out = {}\n",
    "    while len(a) > 0 and len(b) > 0: \n",
    "        first = dict(itertools.islice(a.items(), 4))\n",
    "        for key in first.keys():\n",
    "            a.pop(key)\n",
    "        second = dict(itertools.islice(b.items(), 4))\n",
    "        for key in second.keys():\n",
    "            b.pop(key)\n",
    "        tmp = {**first , **second}\n",
    "        out = {**out, **tmp}\n",
    "    return out"
   ]
  },
  {
   "cell_type": "code",
   "execution_count": null,
   "id": "959e03c7",
   "metadata": {},
   "outputs": [],
   "source": [
    "def plot_pictures(f):\n",
    "    fig, axs = plt.subplots(8,5, figsize=figSize, dpi=dpi)\n",
    "    for (key, row) in zip(f.keys(), axs.T.flatten()):\n",
    "        row.imshow(f[key])\n",
    "        row.set_title(key, fontsize=16)\n",
    "    fig.tight_layout()\n",
    "    \n",
    "    \n",
    "plot_pictures(f.copy())"
   ]
  },
  {
   "cell_type": "code",
   "execution_count": null,
   "id": "ee510d8d",
   "metadata": {},
   "outputs": [],
   "source": [
    "# noise\n",
    "def generate_noise(f):\n",
    "    f_noise = f.copy()\n",
    "    pre = np.linspace(2, 8, 4)\n",
    "    sigmas = np.round(np.exp(pre), 0).astype(np.int32)\n",
    "    print(sigmas)\n",
    "    shape = list(f_noise.values())[0].shape\n",
    "    for i, sigma in enumerate(sigmas):\n",
    "        noise = np.random.normal(loc=0, scale=sigma, size=shape)\n",
    "        for file in f.keys():\n",
    "            im = np.round(normalize_to_range(f_noise[file].copy()+noise, endrange = (0, 255)), 0).astype(np.int32)\n",
    "            filename = rename_file(file, \"_noise\"+str(sigma))\n",
    "            f_noise[filename] = im\n",
    "    return f_noise\n",
    "\n",
    "plot_pictures(generate_noise(f.copy()))"
   ]
  },
  {
   "cell_type": "code",
   "execution_count": null,
   "id": "257f79dd",
   "metadata": {},
   "outputs": [],
   "source": [
    "# blur\n",
    "def generate_blur(f):\n",
    "    f_blur = f.copy()\n",
    "    pre = np.linspace(1, 3, 4)\n",
    "    sigmas = np.round(np.exp(pre), 0).astype(np.int32)\n",
    "    print(sigmas)\n",
    "    for i, sigma in enumerate(sigmas):\n",
    "        for file in f.keys():\n",
    "            im = f_blur[file].copy()\n",
    "            im = ndimage.gaussian_filter(im, sigma=(sigma,sigma,0))\n",
    "            filename = rename_file(file, \"_blur\"+str(sigma))\n",
    "            f_blur[filename] = im\n",
    "    return f_blur\n",
    "\n",
    "plot_pictures(generate_blur(f.copy()))"
   ]
  },
  {
   "cell_type": "code",
   "execution_count": null,
   "id": "68abd45e",
   "metadata": {},
   "outputs": [],
   "source": [
    "# salt and pepper\n",
    "def generate_salt_pepper(f):\n",
    "    f_sap = f.copy()\n",
    "    pre = np.linspace(10, 15, 4)\n",
    "    sigmas = np.round(np.exp(pre), 0).astype(np.int32)\n",
    "    print(sigmas)\n",
    "    n = list(f_sap.values())[0].shape[1]\n",
    "    for i, sigma in enumerate(sigmas):\n",
    "        spots_x = np.random.choice(range(n), sigma)\n",
    "        spots_y = np.random.choice(range(n), sigma)\n",
    "        for file in f.keys():\n",
    "            im = f_sap[file].copy()\n",
    "            for y in range(sigma):\n",
    "                # we randomly assign either 0 (black) or 255 (white)\n",
    "                im[spots_x[y], spots_y[y]] = np.random.randint(2)*255\n",
    "            filename = rename_file(file, \"_sap\"+str(sigma))\n",
    "            f_sap[filename] = im\n",
    "    return f_sap\n",
    "\n",
    "\n",
    "\n",
    "plot_pictures(generate_salt_pepper(f.copy()))"
   ]
  },
  {
   "cell_type": "code",
   "execution_count": null,
   "id": "bc2ce051",
   "metadata": {},
   "outputs": [],
   "source": [
    "# jpg\n",
    "def generate_jpg(f):\n",
    "    f_jpg = f.copy()\n",
    "    pre = np.linspace(0, 4, 4)\n",
    "    sigmas = np.round(np.exp(pre), 0).astype(np.int32)[::-1]\n",
    "    print(sigmas)\n",
    "    for i, sigma in enumerate(sigmas):\n",
    "        for file in f.keys():\n",
    "            im = f[file].copy()\n",
    "            buffer = BytesIO()\n",
    "            Image.fromarray(im).save(buffer , 'jpeg', quality=int(sigma))\n",
    "            im = Image.open(buffer)\n",
    "            im = np.array(im)\n",
    "            filename = rename_file(file, \"_jpg\"+str(sigma))\n",
    "            f_jpg[filename] = im\n",
    "    return f_jpg\n",
    "\n",
    "\n",
    "plot_pictures(generate_jpg(f.copy()))"
   ]
  },
  {
   "cell_type": "code",
   "execution_count": null,
   "id": "49cf3f53",
   "metadata": {},
   "outputs": [],
   "source": [
    "# shuffle\n",
    "def generate_shuffle(f):\n",
    "    f_shuffle = f.copy()\n",
    "    pre = np.linspace(0, 4, 4)\n",
    "    sigmas = np.round(np.exp(pre), 0).astype(np.int32)[::-1]\n",
    "    sigmas = [600, 300, 200, 100]\n",
    "    print(sigmas)\n",
    "    for i, sigma in enumerate(sigmas):\n",
    "        chunkSize = (sigma, sigma)\n",
    "        for file in f.keys():\n",
    "            im = f[file].copy()\n",
    "            im = reshape_split(im, chunkSize)\n",
    "            np.random.shuffle(im)\n",
    "            filename = rename_file(file, \"_jpg\"+str(sigma))\n",
    "            f_shuffle[filename] = im.reshape(f[file].shape)\n",
    "    return f_shuffle\n",
    "\n",
    "\n",
    "plot_pictures(generate_shuffle(f.copy()))"
   ]
  },
  {
   "cell_type": "code",
   "execution_count": null,
   "id": "fd4cdb09",
   "metadata": {},
   "outputs": [],
   "source": []
  }
 ],
 "metadata": {
  "kernelspec": {
   "display_name": "Python 3 (ipykernel)",
   "language": "python",
   "name": "python3"
  },
  "language_info": {
   "codemirror_mode": {
    "name": "ipython",
    "version": 3
   },
   "file_extension": ".py",
   "mimetype": "text/x-python",
   "name": "python",
   "nbconvert_exporter": "python",
   "pygments_lexer": "ipython3",
   "version": "3.10.1"
  }
 },
 "nbformat": 4,
 "nbformat_minor": 5
}
