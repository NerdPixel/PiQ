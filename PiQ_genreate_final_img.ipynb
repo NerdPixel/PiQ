{
 "cells": [
  {
   "cell_type": "code",
   "execution_count": 13,
   "id": "4ed3dc22",
   "metadata": {},
   "outputs": [],
   "source": [
    "import numpy as np\n",
    "import matplotlib.pyplot as plt\n",
    "from scipy import ndimage\n",
    "from PIL import Image\n",
    "import os\n",
    "from io import BytesIO\n",
    "import logging"
   ]
  },
  {
   "cell_type": "code",
   "execution_count": 14,
   "id": "f84fc1d2",
   "metadata": {},
   "outputs": [],
   "source": [
    "path = r\"./images_joh/edit/all\"\n",
    "logging.basicConfig(filename='test.log', encoding='utf-8', level=logging.DEBUG)"
   ]
  },
  {
   "cell_type": "code",
   "execution_count": 15,
   "id": "7f617652",
   "metadata": {},
   "outputs": [],
   "source": [
    "def rename_file(filename, foo):\n",
    "    s = filename.split('.')\n",
    "    return s[0]+foo+\".\"+'jpeg'"
   ]
  },
  {
   "cell_type": "code",
   "execution_count": 16,
   "id": "713c42d3",
   "metadata": {},
   "outputs": [],
   "source": [
    "f = {}\n",
    "filenames = os.walk(path)\n",
    "logging.debug(\"filenames: \")\n",
    "for f_path, _, filename in filenames: \n",
    "    for file in filename:\n",
    "        if file.endswith(\".jpeg\"):\n",
    "            logging.debug(f_path+'/'+file)\n",
    "            f[file] = np.array(Image.open(f_path+\"/\"+file))\n",
    "            filename = rename_file(file, \"_r\")\n",
    "            f[filename] = np.rot90(np.array(Image.open(f_path+\"/\"+file)), 2)"
   ]
  },
  {
   "cell_type": "code",
   "execution_count": 17,
   "id": "982bcad9",
   "metadata": {},
   "outputs": [],
   "source": [
    "# jpg\n",
    "def generate_jpg(f, sigmas):\n",
    "    f_jpg = f.copy()\n",
    "    for i, sigma in enumerate(sigmas):\n",
    "        for file in f.keys():\n",
    "            im = f[file].copy()\n",
    "            buffer = BytesIO()\n",
    "            Image.fromarray(im).save(buffer , 'jpeg', quality=int(sigma))\n",
    "            im = Image.open(buffer)\n",
    "            im = np.array(im)\n",
    "            filename = rename_file(file, '_'+str(sigma))\n",
    "            f_jpg[filename] = im\n",
    "    return f_jpg"
   ]
  },
  {
   "cell_type": "code",
   "execution_count": 18,
   "id": "63709f3e",
   "metadata": {},
   "outputs": [],
   "source": [
    "def generate_sigmas(pre):\n",
    "    sigmas = np.round(np.exp(pre), 0).astype(np.int32)[::-1]\n",
    "    return sigmas"
   ]
  },
  {
   "cell_type": "code",
   "execution_count": 19,
   "id": "dbe56b41",
   "metadata": {},
   "outputs": [],
   "source": [
    "def generate_imgs(pre):\n",
    "    sigmas = generate_sigmas(pre)\n",
    "    logging.debug(f\"sigmas: {sigmas}\")\n",
    "    sigmas_str = map(str, sigmas)\n",
    "    sigmas_str = '_'.join(sigmas_str)\n",
    "    logging.debug(f\"sigmas_str: {sigmas_str}\")\n",
    "    path = \"./img_out/\"+sigmas_str\n",
    "    if os.path.isdir(path):\n",
    "        os.rmdir(path)\n",
    "    os.mkdir(path)\n",
    "    \n",
    "    f_jpg = generate_jpg(f.copy(), sigmas)\n",
    "    logging.debug(\"saved files\")\n",
    "    for file_name, file in f_jpg.items():\n",
    "        logging.debug(f'./img_out/{sigmas_str}/'+file_name)\n",
    "        im = Image.fromarray(file)\n",
    "        im.save(f'./img_out/{sigmas_str}/'+file_name)"
   ]
  },
  {
   "cell_type": "code",
   "execution_count": 20,
   "id": "6e77ce9e",
   "metadata": {},
   "outputs": [],
   "source": [
    "pres = [np.linspace(0, 1, 5), \n",
    "       np.linspace(0, 2, 5),\n",
    "       np.linspace(0, 3, 5),\n",
    "       np.linspace(0, 4, 5), \n",
    "       np.linspace(0, 5, 5)]\n",
    "\n",
    "for pre in pres:\n",
    "    logging.debug(f\"pre: {pre}\")\n",
    "    generate_imgs(pre)\n",
    "\n",
    "\n",
    "\n"
   ]
  },
  {
   "cell_type": "code",
   "execution_count": null,
   "id": "738df033",
   "metadata": {},
   "outputs": [],
   "source": []
  }
 ],
 "metadata": {
  "kernelspec": {
   "display_name": "Python 3 (ipykernel)",
   "language": "python",
   "name": "python3"
  },
  "language_info": {
   "codemirror_mode": {
    "name": "ipython",
    "version": 3
   },
   "file_extension": ".py",
   "mimetype": "text/x-python",
   "name": "python",
   "nbconvert_exporter": "python",
   "pygments_lexer": "ipython3",
   "version": "3.10.0"
  }
 },
 "nbformat": 4,
 "nbformat_minor": 5
}
